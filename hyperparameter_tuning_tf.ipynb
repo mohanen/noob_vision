{
  "nbformat": 4,
  "nbformat_minor": 0,
  "metadata": {
    "accelerator": "GPU",
    "colab": {
      "name": "hyperparameter_tuning_tf.ipynb",
      "provenance": [],
      "collapsed_sections": []
    },
    "kernelspec": {
      "display_name": "Python 3",
      "name": "python3"
    },
    "language_info": {
      "name": "python"
    }
  },
  "cells": [
    {
      "cell_type": "markdown",
      "metadata": {
        "id": "fMKxA-slER58"
      },
      "source": [
        "# Hyperparameter Tuning with Image Clasification \n",
        "\n",
        "[![Open In Colab](https://colab.research.google.com/assets/colab-badge.svg)](https://colab.research.google.com/github/mohanen/noob_vision/blob/master/hyperparameter_tuning_tf.ipynb)\n",
        "\n",
        "> we already know how to classify images from [cnn classification](https://colab.research.google.com/github/mohanen/noob_vision/blob/master/cnn_classification_tf.ipynb)\n",
        "\n",
        "## Hyperparameter Tuning\n",
        "\n",
        "> Choosing the set of optimal parameters from given choices\n",
        "\n",
        "we can find the optimal parameters for all things, such as\n",
        "1. No. of layers\n",
        "2. No. of nodes on each layers\n",
        "3. optimizer\n",
        "4. learning rate\n",
        "5. loss function\n",
        "6. so on,..\n",
        "\n",
        "But it takes more time as the combination increases, If you powerful processing environments you can try this to tune for optimal parameters\n",
        "\n",
        "### Lets use the same steps as [cnn classification](https://colab.research.google.com/github/mohanen/noob_vision/blob/master/cnn_classification_tf.ipynb) with some overfit prevention mechanisms\n",
        "\n",
        "1. Download and arrange dataset in file system\n",
        "2. Load the training and valdiation data \n",
        "3. Create a CNN Model with HyperParameter Tuning\n",
        "4. Train the model\n",
        "5. Test the model\n"
      ]
    },
    {
      "cell_type": "markdown",
      "metadata": {
        "id": "2O7rEAE8ffc-"
      },
      "source": [
        "## Step 1: Download and arrange dataset in file systems"
      ]
    },
    {
      "cell_type": "code",
      "metadata": {
        "colab": {
          "base_uri": "https://localhost:8080/"
        },
        "id": "Z-gNjcmLCHWR",
        "outputId": "e5afe121-bd8d-4ed1-9e6a-d5ed20e06e44"
      },
      "source": [
        "import tensorflow as tf\n",
        "import numpy as np\n",
        "import pathlib                  # For folder/file related operations\n",
        "import matplotlib.pyplot as plt # For plotting graphs and showing images\n",
        "\n",
        "# Reduce precission and speed thing up 60% on TPU and 3x on Modern GPU - optional\n",
        "tf.keras.mixed_precision.set_global_policy('mixed_float16')\n",
        "\n",
        "# Download the dataset\n",
        "dataset_url = \"https://storage.googleapis.com/download.tensorflow.org/example_images/flower_photos.tgz\"\n",
        "\n",
        "# You don't need to seperate libraries to download and zip file, tensorflow itself has one built one, lets use that\n",
        "data_dir = tf.keras.utils.get_file(origin=dataset_url, fname=\"the_dataset\", extract=True, cache_dir=\"./\")\n",
        "# Pathlib allows you to do some path handling operations\n",
        "data_dir = pathlib.Path(data_dir)\n",
        "data_dir =  data_dir.parent.joinpath ('flower_photos')\n",
        "\n",
        "# list the contents of data dir\n",
        "# \"!\" indicated shell commands\n",
        "!ls $data_dir"
      ],
      "execution_count": 2,
      "outputs": [
        {
          "output_type": "stream",
          "text": [
            "daisy  dandelion  LICENSE.txt  roses  sunflowers  tulips\n"
          ],
          "name": "stdout"
        }
      ]
    },
    {
      "cell_type": "markdown",
      "metadata": {
        "id": "L0TDkP0ofnkA"
      },
      "source": [
        "## Step 2: Load the training and validation data \n"
      ]
    },
    {
      "cell_type": "code",
      "metadata": {
        "colab": {
          "base_uri": "https://localhost:8080/"
        },
        "id": "cIguXr6ufo3_",
        "outputId": "4a2e8493-6d3d-4284-acac-c12b84e5c023"
      },
      "source": [
        "BATCH_SIZE = 32 # Instead of running all dataset one session its split into multiple batches for faster training and better convergence\n",
        "IMG_HEIGHT = 128\n",
        "IMG_WIDTH = 128\n",
        "IMG_CHANNELS = 3 # RGB has 3 channels each represensting intensity of Red, Green, Blue \n",
        "\n",
        "# To load the image from directory we can use the tensorflow api itself\n",
        "# training and validation split can also be configured with the same api\n",
        "train_ds = tf.keras.preprocessing.image_dataset_from_directory(\n",
        "    data_dir,               # path to dataset\n",
        "    validation_split=0.2,   # percent of data reserved for validation\n",
        "    subset=\"training\",      # training or validation subset\n",
        "    seed=123,               # seed helps in shuffling images same way for both training and validation \n",
        "    image_size=(IMG_HEIGHT, IMG_WIDTH), \n",
        "    batch_size=BATCH_SIZE   \n",
        "    )\n",
        "\n",
        "val_ds = tf.keras.preprocessing.image_dataset_from_directory(\n",
        "    data_dir, \n",
        "    validation_split=0.2,\n",
        "    subset=\"validation\", \n",
        "    seed=123, \n",
        "    image_size=(IMG_HEIGHT, IMG_WIDTH), \n",
        "    batch_size=BATCH_SIZE)\n",
        "\n",
        "# store the class names\n",
        "class_names = train_ds.class_names\n",
        "\n",
        "# Improves tensorflow performance drastically\n",
        "train_ds = train_ds.cache()\n",
        "train_ds = train_ds.prefetch(tf.data.experimental.AUTOTUNE)\n",
        "val_ds = val_ds.cache()\n",
        "val_ds = val_ds.prefetch(tf.data.experimental.AUTOTUNE)\n",
        "\n",
        "print (class_names)"
      ],
      "execution_count": 3,
      "outputs": [
        {
          "output_type": "stream",
          "text": [
            "Found 3670 files belonging to 5 classes.\n",
            "Using 2936 files for training.\n",
            "Found 3670 files belonging to 5 classes.\n",
            "Using 734 files for validation.\n",
            "['daisy', 'dandelion', 'roses', 'sunflowers', 'tulips']\n"
          ],
          "name": "stdout"
        }
      ]
    },
    {
      "cell_type": "markdown",
      "metadata": {
        "id": "Tiu90x9XkvXJ"
      },
      "source": [
        "## Step 3: Hyperparameter tuning - Find optimal parameters for model\n",
        "\n",
        "1. Since it involves training the model to find the best parameter, we can get the best model once done instead of training again.\n",
        "\n",
        "2. Or you if the resource or time is not enought to tune with all dataset, you can use a random subset of the dataset and get optimal parameters and again train with full dataset for the best model which as best parameters and has good starting point values "
      ]
    },
    {
      "cell_type": "code",
      "metadata": {
        "colab": {
          "base_uri": "https://localhost:8080/"
        },
        "id": "1WZWNWdy3yMi",
        "outputId": "23a7326e-b728-4530-9521-32076bc3546b"
      },
      "source": [
        "# install keras tuner if haven't already\n",
        "!pip install -q -U keras-tuner\n"
      ],
      "execution_count": 4,
      "outputs": [
        {
          "output_type": "stream",
          "text": [
            "\u001b[?25l\r\u001b[K     |█████▏                          | 10kB 23.9MB/s eta 0:00:01\r\u001b[K     |██████████▍                     | 20kB 31.0MB/s eta 0:00:01\r\u001b[K     |███████████████▋                | 30kB 22.1MB/s eta 0:00:01\r\u001b[K     |████████████████████▉           | 40kB 25.9MB/s eta 0:00:01\r\u001b[K     |██████████████████████████      | 51kB 24.6MB/s eta 0:00:01\r\u001b[K     |███████████████████████████████▎| 61kB 26.9MB/s eta 0:00:01\r\u001b[K     |████████████████████████████████| 71kB 8.5MB/s \n",
            "\u001b[?25h  Building wheel for keras-tuner (setup.py) ... \u001b[?25l\u001b[?25hdone\n",
            "  Building wheel for terminaltables (setup.py) ... \u001b[?25l\u001b[?25hdone\n"
          ],
          "name": "stdout"
        }
      ]
    },
    {
      "cell_type": "code",
      "metadata": {
        "colab": {
          "base_uri": "https://localhost:8080/"
        },
        "id": "VgSZHtE-wdJX",
        "outputId": "eacab6c6-ab2c-4643-9b5d-72970529794b"
      },
      "source": [
        "from tensorflow.keras import layers, models\n",
        "import kerastuner as kt\n",
        "\n",
        "# The more options the more time it takes to find the best combination of optimal params\n",
        "# So If you already know some good limits, it'll help you save some time\n",
        "def model_builder(hp):\n",
        "  inputs = tf.keras.Input(shape=(IMG_HEIGHT, IMG_WIDTH, IMG_CHANNELS))\n",
        "  x = inputs\n",
        "  for i in range(hp.Int('layers', 3, 4, step=1)):\n",
        "    filters = hp.Int('fitlers_'+str(i), 64, 128, step=32)\n",
        "\n",
        "    x = layers.Conv2D(filters=filters,\n",
        "                      kernel_size=3,\n",
        "                      padding='same')(x)\n",
        "    x = layers.BatchNormalization()(x)\n",
        "    x = layers.ReLU()(x)\n",
        "    x = layers.MaxPool2D()(x)\n",
        "\n",
        "  x = layers.GlobalAveragePooling2D()(x)\n",
        "  x = layers.Dense(\n",
        "      hp.Int('hidden_size', 128, 256, step=32),\n",
        "      activation='relu'\n",
        "  )(x)\n",
        "  x = layers.Dropout(\n",
        "      hp.Float('dropout', 0.2, 0.4, step=0.2, default=0.4)\n",
        "  )(x)\n",
        "  output = layers.Dense(len(class_names), activation='softmax')(x)\n",
        "\n",
        "  model = tf.keras.Model(inputs, output)\n",
        "  model.compile(\n",
        "      optimizer=tf.keras.optimizers.Adam(),\n",
        "      loss=tf.keras.losses.SparseCategoricalCrossentropy(),\n",
        "      metrics=['accuracy']\n",
        "  )\n",
        "\n",
        "  return model\n",
        "\n",
        "tuner = kt.Hyperband(model_builder,\n",
        "                    objective='val_accuracy',\n",
        "                    max_epochs=30,\n",
        "                    hyperband_iterations=2)\n",
        "\n",
        "tuner.search(\n",
        "    train_ds,\n",
        "    validation_data=val_ds,\n",
        "    epochs=30,\n",
        "    callbacks=[tf.keras.callbacks.EarlyStopping(patience=5)]\n",
        ")\n",
        "\n",
        "model = tuner.get_best_models(1)[0]\n",
        "best_hyperparameters = tuner.get_best_hyperparameters(1)[0]\n",
        "\n",
        "print(best_hyperparameters)\n",
        "\n",
        "model.summary()"
      ],
      "execution_count": 5,
      "outputs": [
        {
          "output_type": "stream",
          "text": [
            "Trial 180 Complete [00h 00m 43s]\n",
            "val_accuracy: 0.6594005227088928\n",
            "\n",
            "Best val_accuracy So Far: 0.7602179646492004\n",
            "Total elapsed time: 01h 11m 09s\n",
            "INFO:tensorflow:Oracle triggered exit\n",
            "<kerastuner.engine.hyperparameters.HyperParameters object at 0x7ff36052ae50>\n",
            "Model: \"model\"\n",
            "_________________________________________________________________\n",
            "Layer (type)                 Output Shape              Param #   \n",
            "=================================================================\n",
            "input_1 (InputLayer)         [(None, 128, 128, 3)]     0         \n",
            "_________________________________________________________________\n",
            "conv2d (Conv2D)              (None, 128, 128, 64)      1792      \n",
            "_________________________________________________________________\n",
            "batch_normalization (BatchNo (None, 128, 128, 64)      256       \n",
            "_________________________________________________________________\n",
            "re_lu (ReLU)                 (None, 128, 128, 64)      0         \n",
            "_________________________________________________________________\n",
            "max_pooling2d (MaxPooling2D) (None, 64, 64, 64)        0         \n",
            "_________________________________________________________________\n",
            "conv2d_1 (Conv2D)            (None, 64, 64, 96)        55392     \n",
            "_________________________________________________________________\n",
            "batch_normalization_1 (Batch (None, 64, 64, 96)        384       \n",
            "_________________________________________________________________\n",
            "re_lu_1 (ReLU)               (None, 64, 64, 96)        0         \n",
            "_________________________________________________________________\n",
            "max_pooling2d_1 (MaxPooling2 (None, 32, 32, 96)        0         \n",
            "_________________________________________________________________\n",
            "conv2d_2 (Conv2D)            (None, 32, 32, 64)        55360     \n",
            "_________________________________________________________________\n",
            "batch_normalization_2 (Batch (None, 32, 32, 64)        256       \n",
            "_________________________________________________________________\n",
            "re_lu_2 (ReLU)               (None, 32, 32, 64)        0         \n",
            "_________________________________________________________________\n",
            "max_pooling2d_2 (MaxPooling2 (None, 16, 16, 64)        0         \n",
            "_________________________________________________________________\n",
            "conv2d_3 (Conv2D)            (None, 16, 16, 96)        55392     \n",
            "_________________________________________________________________\n",
            "batch_normalization_3 (Batch (None, 16, 16, 96)        384       \n",
            "_________________________________________________________________\n",
            "re_lu_3 (ReLU)               (None, 16, 16, 96)        0         \n",
            "_________________________________________________________________\n",
            "max_pooling2d_3 (MaxPooling2 (None, 8, 8, 96)          0         \n",
            "_________________________________________________________________\n",
            "global_average_pooling2d (Gl (None, 96)                0         \n",
            "_________________________________________________________________\n",
            "dense (Dense)                (None, 224)               21728     \n",
            "_________________________________________________________________\n",
            "dropout (Dropout)            (None, 224)               0         \n",
            "_________________________________________________________________\n",
            "dense_1 (Dense)              (None, 5)                 1125      \n",
            "=================================================================\n",
            "Total params: 192,069\n",
            "Trainable params: 191,429\n",
            "Non-trainable params: 640\n",
            "_________________________________________________________________\n"
          ],
          "name": "stdout"
        }
      ]
    },
    {
      "cell_type": "markdown",
      "metadata": {
        "id": "9xD6dcm7hBn2"
      },
      "source": [
        "### Plot Confusion matrix for validation data\n",
        "\n",
        "It gives an visual represention of how good the model is performing"
      ]
    },
    {
      "cell_type": "code",
      "metadata": {
        "colab": {
          "base_uri": "https://localhost:8080/",
          "height": 519
        },
        "id": "YF6oPXt8ma78",
        "outputId": "ac6a587c-ac16-4a2a-ce7a-ca847cee3f0d"
      },
      "source": [
        "#Defining function for confusion matrix plot - https://analyticsindiamag.com/implementing-efficientnet-a-powerful-convolutional-neural-network/\n",
        "from sklearn.metrics import confusion_matrix\n",
        "from google.colab.patches import cv2_imshow\n",
        "\n",
        "def plot_confusion_matrix(y_true, y_pred, classes,\n",
        "                          normalize=False,\n",
        "                          title=None,\n",
        "                          cmap=plt.cm.Blues):\n",
        "    if not title:\n",
        "        if normalize:\n",
        "            title = 'Normalized confusion matrix'\n",
        "        else:\n",
        "            title = 'Confusion matrix, without normalization'\n",
        "\n",
        "    # Compute confusion matrix\n",
        "    cm = confusion_matrix(y_true, y_pred)\n",
        "    if normalize:\n",
        "        cm = cm.astype('float') / cm.sum(axis=1)[:, np.newaxis]\n",
        "        print(\"Normalized confusion matrix\")\n",
        "    else:\n",
        "        print('Confusion matrix, without normalization')\n",
        "\n",
        "#Print Confusion matrix\n",
        "    fig, ax = plt.subplots(figsize=(7,7))\n",
        "    im = ax.imshow(cm, interpolation='nearest', cmap=cmap)\n",
        "    ax.figure.colorbar(im, ax=ax)\n",
        "    # We want to show all ticks...\n",
        "    ax.set(xticks=np.arange(cm.shape[1]),\n",
        "           yticks=np.arange(cm.shape[0]),\n",
        "        xticklabels=classes, yticklabels=classes,\n",
        "           title=title,\n",
        "           ylabel='True label',\n",
        "           xlabel='Predicted label')\n",
        "\n",
        "   # Rotate the tick labels and set their alignment.\n",
        "    plt.setp(ax.get_xticklabels(), rotation=45, ha=\"right\",\n",
        "             rotation_mode=\"anchor\")\n",
        "    # Loop over data dimensions and create text annotations.\n",
        "    fmt = '.2f' if normalize else 'd'\n",
        "    thresh = cm.max() / 2.\n",
        "    for i in range(cm.shape[0]):\n",
        "        for j in range(cm.shape[1]):\n",
        "            ax.text(j, i, format(cm[i, j], fmt),\n",
        "                    ha=\"center\", va=\"center\",\n",
        "                    color=\"white\" if cm[i, j] > thresh else \"black\")\n",
        "    fig.tight_layout()\n",
        "    return ax\n",
        "\n",
        "np.set_printoptions(precision=2)\n",
        "\n",
        "val_ds_u = val_ds.unbatch()\n",
        "val_ds_u = list(val_ds_u.as_numpy_iterator())\n",
        "img_arr = np.array([image for image, label in val_ds_u])\n",
        "lbl_arr = np.array([label for image, label in val_ds_u])\n",
        "\n",
        "val_p = model.predict(img_arr)\n",
        "\n",
        "\n",
        "val_r = [np.argmax(y) for y in val_p]\n",
        "\n",
        "plot_confusion_matrix(val_r, lbl_arr, class_names)"
      ],
      "execution_count": 6,
      "outputs": [
        {
          "output_type": "stream",
          "text": [
            "Confusion matrix, without normalization\n"
          ],
          "name": "stdout"
        },
        {
          "output_type": "execute_result",
          "data": {
            "text/plain": [
              "<matplotlib.axes._subplots.AxesSubplot at 0x7ff3754f2910>"
            ]
          },
          "metadata": {
            "tags": []
          },
          "execution_count": 6
        },
        {
          "output_type": "display_data",
          "data": {
            "image/png": "[encoded data removed]",
            "text/plain": [
              "<Figure size 504x504 with 2 Axes>"
            ]
          },
          "metadata": {
            "tags": [],
            "needs_background": "light"
          }
        }
      ]
    },
    {
      "cell_type": "markdown",
      "metadata": {
        "id": "5WNCklHdq1iN"
      },
      "source": [
        "## Step 5: Test the model\n"
      ]
    },
    {
      "cell_type": "code",
      "metadata": {
        "colab": {
          "base_uri": "https://localhost:8080/"
        },
        "id": "O-Z5PYaZq6rI",
        "outputId": "5678f08c-fcef-47cd-9c47-041fbbca8075"
      },
      "source": [
        "# Place an url of any new images and try the results \n",
        "image_url = \"https://upload.wikimedia.org/wikipedia/commons/c/ce/Daisy_G%C3%A4nsebl%C3%BCmchen_Bellis_perennis_01.jpg\"\n",
        "\n",
        "# tf cahces the data to be dowloaded, so just make sure we clean if any previous image was already stored\n",
        "!rm datasets/Image.png\n",
        "\n",
        "# Download the image to local storage\n",
        "image_path = tf.keras.utils.get_file('Image.png', origin=image_url, cache_dir=\"./\")\n",
        "# Load the image from local storage using tensorflow api's \n",
        "img = tf.keras.preprocessing.image.load_img(\n",
        "    image_path, \n",
        "    target_size=(IMG_WIDTH, IMG_HEIGHT)\n",
        "    )\n",
        "img_array = tf.keras.preprocessing.image.img_to_array(img)\n",
        "\n",
        "img_array = tf.expand_dims(img_array, 0)\n",
        "\n",
        "predictions = model.predict(img_array)\n",
        "score = tf.nn.softmax(predictions[0])\n",
        "\n",
        "\n",
        "print(\"This definitely an {} - {}\".format(class_names[np.argmax(score)], round(100 * np.max(score))))"
      ],
      "execution_count": 7,
      "outputs": [
        {
          "output_type": "stream",
          "text": [
            "rm: cannot remove 'datasets/Image.png': No such file or directory\n",
            "Downloading data from https://upload.wikimedia.org/wikipedia/commons/c/ce/Daisy_G%C3%A4nsebl%C3%BCmchen_Bellis_perennis_01.jpg\n",
            "1261568/1256730 [==============================] - 0s 0us/step\n",
            "This definitely an daisy - 40\n"
          ],
          "name": "stdout"
        }
      ]
    }
  ]
}