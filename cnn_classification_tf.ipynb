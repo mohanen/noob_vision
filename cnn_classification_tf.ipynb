{
  "nbformat": 4,
  "nbformat_minor": 0,
  "metadata": {
    "colab": {
      "name": "cnn_classification_tf.ipynb",
      "provenance": [],
      "collapsed_sections": []
    },
    "kernelspec": {
      "name": "python3",
      "display_name": "Python 3"
    },
    "language_info": {
      "name": "python"
    },
    "accelerator": "GPU"
  },
  "cells": [
    {
      "cell_type": "markdown",
      "metadata": {
        "id": "fMKxA-slER58"
      },
      "source": [
        "# Binary Image Clasification \n",
        "\n",
        "Lets classify roses vs sunflowers\n",
        "\n",
        "[![Open In Colab](https://colab.research.google.com/assets/colab-badge.svg)](https://colab.research.google.com/github/noob_vision/cnn_classification_tf.ipynb)\n",
        "\n",
        "### Hey Ferb, I know what we're gonna do today\n",
        "\n",
        "1. Download and arrange dataset in file system\n",
        "2. Load the training and valdiation data \n",
        "3. Create a CNN Model\n",
        "4. Train the model\n",
        "5. Test the model\n"
      ]
    },
    {
      "cell_type": "markdown",
      "metadata": {
        "id": "2O7rEAE8ffc-"
      },
      "source": [
        "## Step 1: Download and arrange dataset in file systems"
      ]
    },
    {
      "cell_type": "code",
      "metadata": {
        "id": "Z-gNjcmLCHWR",
        "colab": {
          "base_uri": "https://localhost:8080/"
        },
        "outputId": "9a482995-15de-4567-fb6f-b93384275d8c"
      },
      "source": [
        "import tensorflow as tf\n",
        "import numpy as np\n",
        "import pathlib                  # For folder/file related operations\n",
        "import matplotlib.pyplot as plt # For plotting graphs and showing images\n",
        "\n",
        "# Download the dataset\n",
        "dataset_url = \"https://storage.googleapis.com/download.tensorflow.org/example_images/flower_photos.tgz\"\n",
        "# You don't need to seperate libraries to download and zip file, tensorflow itself has one built one, lets use that\n",
        "data_dir = tf.keras.utils.get_file(origin=dataset_url, fname=\"the_dataset\", extract=True, cache_dir=\"./\")\n",
        "# Pathlib allows you to do some path handling operations\n",
        "data_dir = pathlib.Path(data_dir)\n",
        "data_dir =  data_dir.parent.joinpath ('flower_photos')\n",
        "\n",
        "# list the contents of data dir\n",
        "# \"!\" indicated shell commands\n",
        "!ls $data_dir"
      ],
      "execution_count": 7,
      "outputs": [
        {
          "output_type": "stream",
          "text": [
            "Downloading data from https://storage.googleapis.com/download.tensorflow.org/example_images/flower_photos.tgz\n",
            "228818944/228813984 [==============================] - 1s 0us/step\n",
            "daisy  dandelion  LICENSE.txt  roses  sunflowers  tulips\n"
          ],
          "name": "stdout"
        }
      ]
    },
    {
      "cell_type": "markdown",
      "metadata": {
        "id": "L0TDkP0ofnkA"
      },
      "source": [
        "## Step 2: Load the training and validation data \n"
      ]
    },
    {
      "cell_type": "code",
      "metadata": {
        "id": "cIguXr6ufo3_",
        "colab": {
          "base_uri": "https://localhost:8080/"
        },
        "outputId": "86eee929-9bb4-4337-f72f-4aef63ca62ab"
      },
      "source": [
        "BATCH_SIZE = 32 # Instead of running all dataset one session its split into multiple batches for faster training and better convergence\n",
        "IMG_HEIGHT = 64\n",
        "IMG_WIDTH = 64\n",
        "IMG_CHANNELS = 3 # RGB has 3 channels each represensting intensity of Red, Green, Blue \n",
        "\n",
        "# To load the image from directory we can use the tensorflow api itself\n",
        "# training and validation split can also be configured with the same api\n",
        "train_ds = tf.keras.preprocessing.image_dataset_from_directory(\n",
        "    data_dir,               # path to dataset\n",
        "    validation_split=0.2,   # percent of data reserved for validation\n",
        "    subset=\"training\",      # training or validation subset\n",
        "    seed=123,               # seed helps in shuffling images same way for both training and validation \n",
        "    image_size=(IMG_HEIGHT, IMG_WIDTH), \n",
        "    batch_size=BATCH_SIZE   \n",
        "    )\n",
        "\n",
        "val_ds = tf.keras.preprocessing.image_dataset_from_directory(\n",
        "    data_dir, \n",
        "    validation_split=0.2,\n",
        "    subset=\"validation\", \n",
        "    seed=123, \n",
        "    image_size=(IMG_HEIGHT, IMG_WIDTH), \n",
        "    batch_size=BATCH_SIZE)\n",
        "\n",
        "# store the class names\n",
        "class_names = train_ds.class_names\n",
        "print (class_names)"
      ],
      "execution_count": 17,
      "outputs": [
        {
          "output_type": "stream",
          "text": [
            "Found 3670 files belonging to 5 classes.\n",
            "Using 2936 files for training.\n",
            "Found 3670 files belonging to 5 classes.\n",
            "Using 734 files for validation.\n",
            "['daisy', 'dandelion', 'roses', 'sunflowers', 'tulips']\n"
          ],
          "name": "stdout"
        }
      ]
    },
    {
      "cell_type": "markdown",
      "metadata": {
        "id": "Tiu90x9XkvXJ"
      },
      "source": [
        "## Step 3: Create a CNN Model\n"
      ]
    },
    {
      "cell_type": "code",
      "metadata": {
        "id": "VgSZHtE-wdJX",
        "colab": {
          "base_uri": "https://localhost:8080/"
        },
        "outputId": "bb57c204-1c7b-4a8c-df7e-2f5bb2cce1d4"
      },
      "source": [
        "from tensorflow.keras import layers, models\n",
        "\n",
        "# The optimal number of layers, filters varies with scenarios, so its best start with simple network and increase the complexity to get good results\n",
        "# complexity brings another problem overfitting - we will be discussing this on a different experiment\n",
        "model = models.Sequential([\n",
        "                           layers.Conv2D(filters=32, kernel_size=(3,3), activation='relu', input_shape=(IMG_HEIGHT, IMG_WIDTH, IMG_CHANNELS)),\n",
        "                           layers.MaxPooling2D(pool_size=(2,2)),\n",
        "                           layers.Conv2D(filters=64, kernel_size=(3,3), activation='relu'),\n",
        "                           layers.MaxPooling2D(pool_size=(2,2)),\n",
        "                           layers.Conv2D(filters=128, kernel_size=(3,3), activation='relu'),\n",
        "                           layers.MaxPooling2D(pool_size=(2,2)),\n",
        "                           layers.Flatten(),\n",
        "                           layers.Dropout(0.2), # This drops 20% percent of previous nodes to prevent over fitting \n",
        "                           layers.Dense(256, activation='relu'),\n",
        "                           layers.Dropout(0.2),\n",
        "                           layers.Dense(len(class_names))\n",
        "])\n",
        "\n",
        "\n",
        "model.compile(\n",
        "    optimizer='adam',\n",
        "    loss=tf.losses.SparseCategoricalCrossentropy(from_logits=True),\n",
        "    metrics=['accuracy']\n",
        ")\n",
        "\n",
        "model.summary()"
      ],
      "execution_count": 18,
      "outputs": [
        {
          "output_type": "stream",
          "text": [
            "Model: \"sequential_1\"\n",
            "_________________________________________________________________\n",
            "Layer (type)                 Output Shape              Param #   \n",
            "=================================================================\n",
            "conv2d_9 (Conv2D)            (None, 62, 62, 32)        896       \n",
            "_________________________________________________________________\n",
            "max_pooling2d_6 (MaxPooling2 (None, 31, 31, 32)        0         \n",
            "_________________________________________________________________\n",
            "conv2d_10 (Conv2D)           (None, 29, 29, 64)        18496     \n",
            "_________________________________________________________________\n",
            "max_pooling2d_7 (MaxPooling2 (None, 14, 14, 64)        0         \n",
            "_________________________________________________________________\n",
            "conv2d_11 (Conv2D)           (None, 12, 12, 128)       73856     \n",
            "_________________________________________________________________\n",
            "max_pooling2d_8 (MaxPooling2 (None, 6, 6, 128)         0         \n",
            "_________________________________________________________________\n",
            "flatten_2 (Flatten)          (None, 4608)              0         \n",
            "_________________________________________________________________\n",
            "dropout_4 (Dropout)          (None, 4608)              0         \n",
            "_________________________________________________________________\n",
            "dense_3 (Dense)              (None, 256)               1179904   \n",
            "_________________________________________________________________\n",
            "dropout_5 (Dropout)          (None, 256)               0         \n",
            "_________________________________________________________________\n",
            "dense_4 (Dense)              (None, 5)                 1285      \n",
            "=================================================================\n",
            "Total params: 1,274,437\n",
            "Trainable params: 1,274,437\n",
            "Non-trainable params: 0\n",
            "_________________________________________________________________\n"
          ],
          "name": "stdout"
        }
      ]
    },
    {
      "cell_type": "markdown",
      "metadata": {
        "id": "W77jN7wgbOAZ"
      },
      "source": [
        "## Step 4: Train the model\n"
      ]
    },
    {
      "cell_type": "code",
      "metadata": {
        "id": "gIH0wFg7bci4",
        "colab": {
          "base_uri": "https://localhost:8080/",
          "height": 1000
        },
        "outputId": "b93a3290-bf69-4e9d-8403-c63b44c78663"
      },
      "source": [
        "epochs = 20\n",
        "\n",
        "history = model.fit(train_ds, validation_data=val_ds, epochs=epochs)\n",
        "\n",
        "# Thats it at this point the model is trained \n",
        "# Lets plot the accuracy and loss over epochs\n",
        "acc = history.history['accuracy']\n",
        "val_acc = history.history['val_accuracy']\n",
        "\n",
        "loss = history.history['loss']\n",
        "val_loss = history.history['val_loss']\n",
        "\n",
        "epochs_range = range(epochs)\n",
        "\n",
        "# below is matplotlib api's to plot line graph\n",
        "plt.figure(figsize=(8, 8))\n",
        "plt.subplot(1, 2, 1)\n",
        "plt.plot(epochs_range, acc, label='Training Accuracy')\n",
        "plt.plot(epochs_range, val_acc, label='Validation Accuracy')\n",
        "plt.legend(loc='lower right')\n",
        "plt.title('Training and Validation Accuracy')\n",
        "\n",
        "plt.subplot(1, 2, 2)\n",
        "plt.plot(epochs_range, loss, label='Training Loss')\n",
        "plt.plot(epochs_range, val_loss, label='Validation Loss')\n",
        "plt.legend(loc='upper right')\n",
        "plt.title('Training and Validation Loss')\n",
        "plt.savefig('H.png')"
      ],
      "execution_count": 19,
      "outputs": [
        {
          "output_type": "stream",
          "text": [
            "Epoch 1/20\n",
            "92/92 [==============================] - 6s 57ms/step - loss: 21.1021 - accuracy: 0.2660 - val_loss: 1.3190 - val_accuracy: 0.4455\n",
            "Epoch 2/20\n",
            "92/92 [==============================] - 5s 55ms/step - loss: 1.2997 - accuracy: 0.4285 - val_loss: 1.1321 - val_accuracy: 0.5395\n",
            "Epoch 3/20\n",
            "92/92 [==============================] - 5s 56ms/step - loss: 1.1148 - accuracy: 0.5467 - val_loss: 1.2896 - val_accuracy: 0.4523\n",
            "Epoch 4/20\n",
            "92/92 [==============================] - 5s 56ms/step - loss: 1.0566 - accuracy: 0.5776 - val_loss: 1.0465 - val_accuracy: 0.5668\n",
            "Epoch 5/20\n",
            "92/92 [==============================] - 6s 57ms/step - loss: 0.8828 - accuracy: 0.6512 - val_loss: 1.0599 - val_accuracy: 0.5777\n",
            "Epoch 6/20\n",
            "92/92 [==============================] - 5s 56ms/step - loss: 0.8171 - accuracy: 0.6846 - val_loss: 1.0524 - val_accuracy: 0.6158\n",
            "Epoch 7/20\n",
            "92/92 [==============================] - 5s 56ms/step - loss: 0.7203 - accuracy: 0.7297 - val_loss: 1.0511 - val_accuracy: 0.6063\n",
            "Epoch 8/20\n",
            "92/92 [==============================] - 5s 55ms/step - loss: 0.5977 - accuracy: 0.7751 - val_loss: 1.0456 - val_accuracy: 0.6104\n",
            "Epoch 9/20\n",
            "92/92 [==============================] - 5s 55ms/step - loss: 0.5576 - accuracy: 0.7813 - val_loss: 1.1894 - val_accuracy: 0.5845\n",
            "Epoch 10/20\n",
            "92/92 [==============================] - 5s 56ms/step - loss: 0.5198 - accuracy: 0.8156 - val_loss: 1.0807 - val_accuracy: 0.5967\n",
            "Epoch 11/20\n",
            "92/92 [==============================] - 5s 55ms/step - loss: 0.4927 - accuracy: 0.8194 - val_loss: 1.1592 - val_accuracy: 0.6199\n",
            "Epoch 12/20\n",
            "92/92 [==============================] - 5s 55ms/step - loss: 0.3600 - accuracy: 0.8718 - val_loss: 1.1501 - val_accuracy: 0.6417\n",
            "Epoch 13/20\n",
            "92/92 [==============================] - 5s 55ms/step - loss: 0.3019 - accuracy: 0.8908 - val_loss: 1.1443 - val_accuracy: 0.6362\n",
            "Epoch 14/20\n",
            "92/92 [==============================] - 5s 55ms/step - loss: 0.2932 - accuracy: 0.8976 - val_loss: 1.1971 - val_accuracy: 0.6485\n",
            "Epoch 15/20\n",
            "92/92 [==============================] - 5s 55ms/step - loss: 0.3310 - accuracy: 0.8796 - val_loss: 1.2454 - val_accuracy: 0.6431\n",
            "Epoch 16/20\n",
            "92/92 [==============================] - 5s 55ms/step - loss: 0.2673 - accuracy: 0.8992 - val_loss: 1.2676 - val_accuracy: 0.6349\n",
            "Epoch 17/20\n",
            "92/92 [==============================] - 5s 55ms/step - loss: 0.2636 - accuracy: 0.9013 - val_loss: 1.2582 - val_accuracy: 0.6621\n",
            "Epoch 18/20\n",
            "92/92 [==============================] - 5s 56ms/step - loss: 0.2158 - accuracy: 0.9226 - val_loss: 1.4383 - val_accuracy: 0.6185\n",
            "Epoch 19/20\n",
            "92/92 [==============================] - 5s 55ms/step - loss: 0.2051 - accuracy: 0.9340 - val_loss: 1.4178 - val_accuracy: 0.6431\n",
            "Epoch 20/20\n",
            "92/92 [==============================] - 5s 55ms/step - loss: 0.2391 - accuracy: 0.9226 - val_loss: 1.4601 - val_accuracy: 0.6335\n"
          ],
          "name": "stdout"
        },
        {
          "output_type": "display_data",
          "data": {
            "image/png": "[encoded data removed]",
            "text/plain": [
              "<Figure size 576x576 with 2 Axes>"
            ]
          },
          "metadata": {
            "tags": [],
            "needs_background": "light"
          }
        }
      ]
    },
    {
      "cell_type": "markdown",
      "metadata": {
        "id": "5WNCklHdq1iN"
      },
      "source": [
        "## Step 5: Test the model\n"
      ]
    },
    {
      "cell_type": "code",
      "metadata": {
        "id": "O-Z5PYaZq6rI",
        "colab": {
          "base_uri": "https://localhost:8080/"
        },
        "outputId": "9441b4f2-fa72-4a1d-ab94-583661a97dfe"
      },
      "source": [
        "# Place an url of any new images and try the results \n",
        "image_url = \"https://upload.wikimedia.org/wikipedia/commons/c/ce/Daisy_G%C3%A4nsebl%C3%BCmchen_Bellis_perennis_01.jpg\"\n",
        "\n",
        "# tf cahces the data to be dowloaded, so just make sure we clean if any previous image was already stored\n",
        "!rm datasets/Image.png\n",
        "\n",
        "# Download the image to local storage\n",
        "image_path = tf.keras.utils.get_file('Image.png', origin=image_url, cache_dir=\"./\")\n",
        "# Load the image from local storage using tensorflow api's \n",
        "img = tf.keras.preprocessing.image.load_img(\n",
        "    image_path, \n",
        "    target_size=(IMG_WIDTH, IMG_HEIGHT)\n",
        "    )\n",
        "img_array = tf.keras.preprocessing.image.img_to_array(img)\n",
        "\n",
        "img_array = tf.expand_dims(img_array, 0)\n",
        "\n",
        "predictions = model.predict(img_array)\n",
        "score = tf.nn.softmax(predictions[0])\n",
        "\n",
        "\n",
        "print(\"This definitely an {} - {}\".format(class_names[np.argmax(score)], round(100 * np.max(score))))"
      ],
      "execution_count": 29,
      "outputs": [
        {
          "output_type": "stream",
          "text": [
            "Downloading data from https://upload.wikimedia.org/wikipedia/commons/c/ce/Daisy_G%C3%A4nsebl%C3%BCmchen_Bellis_perennis_01.jpg\n",
            "1261568/1256730 [==============================] - 0s 0us/step\n",
            "This definitely an daisy - 100\n"
          ],
          "name": "stdout"
        }
      ]
    }
  ]
}