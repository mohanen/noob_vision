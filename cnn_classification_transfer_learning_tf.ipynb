{
  "nbformat": 4,
  "nbformat_minor": 0,
  "metadata": {
    "colab": {
      "name": "cnn_classification_transfer_learning_tf.ipynb",
      "provenance": [],
      "collapsed_sections": [],
      "toc_visible": true
    },
    "kernelspec": {
      "name": "python3",
      "display_name": "Python 3"
    },
    "language_info": {
      "name": "python"
    },
    "accelerator": "GPU"
  },
  "cells": [
    {
      "cell_type": "markdown",
      "metadata": {
        "id": "fMKxA-slER58"
      },
      "source": [
        "# Transfer Learning - Image Clasification \n",
        "\n",
        "[![Open In Colab](https://colab.research.google.com/assets/colab-badge.svg)](https://colab.research.google.com/github/mohanen/noob_vision/blob/master/cnn_classification_transfer_learning_tf.ipynb)\n",
        "\n",
        "## Transfer Learning\n",
        "\n",
        "- Train on a general large dataset you'll get a general model\n",
        "- Use this learned general features and customize a little bit to fit your need \n",
        "\n",
        "### Two ways to customize a pretrained model:\n",
        "\n",
        "#### 1.  Feature Extraction\n",
        "\n",
        "> The base CNN already contains generic features useful for classifying pictures. \n",
        "\n",
        "1. Use the base model as it is. \n",
        "2. Simply add a new classifier at the last layer, which will be trained from scratch.\n",
        "    \n",
        "#### 2.  Fine-Tuning\n",
        "\n",
        "> **Fine-tune** the **higher-order feature**  to make them more relevant for the specific task.\n",
        "\n",
        "1. Unfreeze a few of the top layers of a frozen model base\n",
        "2. Jointly train both the newly-added classifier layers and the last layers of the base model. \n",
        "\n",
        "\n",
        "### Basic Flow\n",
        "1. Download and arrange dataset in file system\n",
        "2. Load the training and valdiation data \n",
        "3. Create a CNN Model\n",
        "4. Train the model\n",
        "5. Test the model\n"
      ]
    },
    {
      "cell_type": "markdown",
      "metadata": {
        "id": "2O7rEAE8ffc-"
      },
      "source": [
        "## Step 1: Download and arrange dataset in file systems"
      ]
    },
    {
      "cell_type": "code",
      "metadata": {
        "id": "Z-gNjcmLCHWR",
        "colab": {
          "base_uri": "https://localhost:8080/"
        },
        "outputId": "596f6124-863f-414a-958b-0a14144b4054"
      },
      "source": [
        "import tensorflow as tf\n",
        "import numpy as np\n",
        "import pathlib                  # For folder/file related operations\n",
        "import matplotlib.pyplot as plt # For plotting graphs and showing images\n",
        "\n",
        "# Reduce precission and speed thing up 60% on TPU and 3x on Modern GPU - optional\n",
        "# tf.keras.mixed_precision.set_global_policy('mixed_float16')\n",
        "\n",
        "# Download the dataset\n",
        "dataset_url = \"https://storage.googleapis.com/download.tensorflow.org/example_images/flower_photos.tgz\"\n",
        "# You don't need to seperate libraries to download and zip file, tensorflow itself has one built one, lets use that\n",
        "data_dir = tf.keras.utils.get_file(origin=dataset_url, fname=\"the_dataset\", extract=True, cache_dir=\"./\")\n",
        "# Pathlib allows you to do some path handling operations\n",
        "data_dir = pathlib.Path(data_dir)\n",
        "data_dir =  data_dir.parent.joinpath ('flower_photos')\n",
        "\n",
        "# list the contents of data dir\n",
        "# \"!\" indicated shell commands\n",
        "!ls $data_dir"
      ],
      "execution_count": 28,
      "outputs": [
        {
          "output_type": "stream",
          "text": [
            "daisy  dandelion  LICENSE.txt  roses  sunflowers  tulips\n"
          ],
          "name": "stdout"
        }
      ]
    },
    {
      "cell_type": "markdown",
      "metadata": {
        "id": "L0TDkP0ofnkA"
      },
      "source": [
        "## Step 2: Load the training and validation data \n"
      ]
    },
    {
      "cell_type": "code",
      "metadata": {
        "id": "cIguXr6ufo3_",
        "colab": {
          "base_uri": "https://localhost:8080/"
        },
        "outputId": "89db3ee4-5c59-42b9-ad05-1d77c6fffae2"
      },
      "source": [
        "BATCH_SIZE = 32 # Instead of running all dataset one session its split into multiple batches for faster training and better convergence\n",
        "IMG_HEIGHT = 224\n",
        "IMG_WIDTH = 224\n",
        "IMG_CHANNELS = 3 # RGB has 3 channels each represensting intensity of Red, Green, Blue \n",
        "\n",
        "# To load the image from directory we can use the tensorflow api itself\n",
        "# training and validation split can also be configured with the same api\n",
        "train_ds = tf.keras.preprocessing.image_dataset_from_directory(\n",
        "    data_dir,               # path to dataset\n",
        "    validation_split=0.2,   # percent of data reserved for validation\n",
        "    subset=\"training\",      # training or validation subset\n",
        "    seed=123,               # seed helps in shuffling images same way for both training and validation \n",
        "    image_size=(IMG_HEIGHT, IMG_WIDTH), \n",
        "    batch_size=BATCH_SIZE   \n",
        "    )\n",
        "\n",
        "val_ds = tf.keras.preprocessing.image_dataset_from_directory(\n",
        "    data_dir, \n",
        "    validation_split=0.2,\n",
        "    subset=\"validation\", \n",
        "    seed=123, \n",
        "    image_size=(IMG_HEIGHT, IMG_WIDTH), \n",
        "    batch_size=BATCH_SIZE)\n",
        "\n",
        "# store the class names\n",
        "class_names = train_ds.class_names\n",
        "\n",
        "# Improves tensorflow performance drastically\n",
        "train_ds = train_ds.cache()\n",
        "train_ds = train_ds.prefetch(tf.data.experimental.AUTOTUNE)\n",
        "val_ds = val_ds.cache()\n",
        "val_ds = val_ds.prefetch(tf.data.experimental.AUTOTUNE)\n",
        "\n",
        "print (class_names)"
      ],
      "execution_count": 29,
      "outputs": [
        {
          "output_type": "stream",
          "text": [
            "Found 3670 files belonging to 5 classes.\n",
            "Using 2936 files for training.\n",
            "Found 3670 files belonging to 5 classes.\n",
            "Using 734 files for validation.\n",
            "['daisy', 'dandelion', 'roses', 'sunflowers', 'tulips']\n"
          ],
          "name": "stdout"
        }
      ]
    },
    {
      "cell_type": "markdown",
      "metadata": {
        "id": "Tiu90x9XkvXJ"
      },
      "source": [
        "## Step 3: Create a CNN Model\n"
      ]
    },
    {
      "cell_type": "code",
      "metadata": {
        "id": "VgSZHtE-wdJX",
        "colab": {
          "base_uri": "https://localhost:8080/"
        },
        "outputId": "49dc5462-e4ea-4505-a16e-2afab723c683"
      },
      "source": [
        "from tensorflow.keras import layers, models\n",
        "import tensorflow_hub as hub\n",
        "\n",
        "# Prevents over fittting the model\n",
        "data_augmentation = models.Sequential([\n",
        "                     layers.experimental.preprocessing.RandomFlip(input_shape=(IMG_HEIGHT, IMG_WIDTH, IMG_CHANNELS)),\n",
        "                     layers.experimental.preprocessing.RandomRotation(0.2),\n",
        "                     layers.experimental.preprocessing.RandomZoom(0.2),\n",
        "                     layers.experimental.preprocessing.RandomContrast(0.2),\n",
        "                     layers.experimental.preprocessing.RandomTranslation(height_factor=0.2, width_factor=0.2),\n",
        "                     layers.experimental.preprocessing.Rescaling(1./255),\n",
        "])\n",
        "\n",
        "efficientnet_model_url = \"https://tfhub.dev/google/imagenet/mobilenet_v3_small_100_224/classification/5\"\n",
        "\n",
        "model = tf.keras.models.Sequential([\n",
        "    data_augmentation,\n",
        "    hub.KerasLayer(efficientnet_model_url),\n",
        "    layers.Dropout(0.2), # This drops 20% percent of previous nodes to prevent over fitting \n",
        "    # Adding Weight = L2 regularizers forces the weights to decay towards zero.\n",
        "    layers.Dense(256, activation='relu', kernel_regularizer=tf.keras.regularizers.l2(0.0001)),\n",
        "    layers.Dropout(0.2), # This drops 20% percent of previous nodes to prevent over fitting\n",
        "    layers.Dense(len(class_names), kernel_regularizer=tf.keras.regularizers.l2(0.0001))\n",
        "])\n",
        "\n",
        "model.build([None, IMG_HEIGHT, IMG_WIDTH, IMG_CHANNELS])\n",
        "\n",
        "model.compile(\n",
        "    optimizer='adam',\n",
        "    loss=tf.losses.SparseCategoricalCrossentropy(from_logits=True),\n",
        "    metrics=['accuracy']\n",
        ")\n",
        "\n",
        "model.summary()"
      ],
      "execution_count": 34,
      "outputs": [
        {
          "output_type": "stream",
          "text": [
            "Model: \"sequential_17\"\n",
            "_________________________________________________________________\n",
            "Layer (type)                 Output Shape              Param #   \n",
            "=================================================================\n",
            "sequential_16 (Sequential)   (None, 224, 224, 3)       0         \n",
            "_________________________________________________________________\n",
            "keras_layer_8 (KerasLayer)   (None, 1001)              2555993   \n",
            "_________________________________________________________________\n",
            "dropout_15 (Dropout)         (None, 1001)              0         \n",
            "_________________________________________________________________\n",
            "dense_12 (Dense)             (None, 256)               256512    \n",
            "_________________________________________________________________\n",
            "dropout_16 (Dropout)         (None, 256)               0         \n",
            "_________________________________________________________________\n",
            "dense_13 (Dense)             (None, 5)                 1285      \n",
            "=================================================================\n",
            "Total params: 2,813,790\n",
            "Trainable params: 257,797\n",
            "Non-trainable params: 2,555,993\n",
            "_________________________________________________________________\n"
          ],
          "name": "stdout"
        }
      ]
    },
    {
      "cell_type": "markdown",
      "metadata": {
        "id": "W77jN7wgbOAZ"
      },
      "source": [
        "## Step 4: Train the model\n"
      ]
    },
    {
      "cell_type": "code",
      "metadata": {
        "id": "gIH0wFg7bci4",
        "colab": {
          "base_uri": "https://localhost:8080/",
          "height": 975
        },
        "outputId": "8de318df-bd13-435e-8a40-558ea3b3d1b2"
      },
      "source": [
        "# How many epochs should i ran, until you get the desired/optimal accuracy and loss\n",
        "# For simplicity i'm gonna go with 50\n",
        "epochs = 100\n",
        "\n",
        "# You also specify if there is no improvement in the accuracy/loss you can stop with a callback\n",
        "early_stopping = tf.keras.callbacks.EarlyStopping(patience=10) # patience \n",
        "\n",
        "history = model.fit(train_ds, \n",
        "                    validation_data=val_ds, \n",
        "                    epochs=epochs, \n",
        "                    callbacks=[early_stopping])\n",
        "\n",
        "def plot_acc_loss(history, epochs_ran):\n",
        "  # Lets plot the accuracy and loss over epochs\n",
        "  acc = history.history['accuracy']\n",
        "  val_acc = history.history['val_accuracy']\n",
        "\n",
        "  loss = history.history['loss']\n",
        "  val_loss = history.history['val_loss']\n",
        "\n",
        "  epochs_range = range(epochs_ran)\n",
        "\n",
        "  # below is matplotlib api's to plot line graph\n",
        "  plt.figure(figsize=(8, 8))\n",
        "  plt.subplot(1, 2, 1)\n",
        "  plt.plot(epochs_range, acc, label='Training Accuracy')\n",
        "  plt.plot(epochs_range, val_acc, label='Validation Accuracy')\n",
        "  plt.legend(loc='lower right')\n",
        "  plt.title('Training and Validation Accuracy')\n",
        "\n",
        "  plt.subplot(1, 2, 2)\n",
        "  plt.plot(epochs_range, loss, label='Training Loss')\n",
        "  plt.plot(epochs_range, val_loss, label='Validation Loss')\n",
        "  plt.legend(loc='upper right')\n",
        "  plt.title('Training and Validation Loss')\n",
        "  plt.savefig('H.png')\n",
        "\n",
        "# Thats it at this point the model is trained\n",
        "if (early_stopping.stopped_epoch == 0): \n",
        "  epochs_ran = epochs\n",
        "else:\n",
        "  epochs_ran = early_stopping.stopped_epoch+1 \n",
        "\n",
        "plot_acc_loss(history, epochs_ran)"
      ],
      "execution_count": 36,
      "outputs": [
        {
          "output_type": "stream",
          "text": [
            "Epoch 1/100\n",
            "92/92 [==============================] - 7s 37ms/step - loss: 1.1841 - accuracy: 0.6211 - val_loss: 0.4704 - val_accuracy: 0.8597\n",
            "Epoch 2/100\n",
            "92/92 [==============================] - 2s 27ms/step - loss: 0.5714 - accuracy: 0.8175 - val_loss: 0.4584 - val_accuracy: 0.8597\n",
            "Epoch 3/100\n",
            "92/92 [==============================] - 2s 27ms/step - loss: 0.4580 - accuracy: 0.8481 - val_loss: 0.4365 - val_accuracy: 0.8774\n",
            "Epoch 4/100\n",
            "92/92 [==============================] - 2s 27ms/step - loss: 0.5003 - accuracy: 0.8267 - val_loss: 0.4172 - val_accuracy: 0.8760\n",
            "Epoch 5/100\n",
            "92/92 [==============================] - 2s 27ms/step - loss: 0.4198 - accuracy: 0.8701 - val_loss: 0.4218 - val_accuracy: 0.8665\n",
            "Epoch 6/100\n",
            "92/92 [==============================] - 3s 27ms/step - loss: 0.3933 - accuracy: 0.8804 - val_loss: 0.4226 - val_accuracy: 0.8692\n",
            "Epoch 7/100\n",
            "92/92 [==============================] - 2s 27ms/step - loss: 0.3964 - accuracy: 0.8781 - val_loss: 0.4314 - val_accuracy: 0.8801\n",
            "Epoch 8/100\n",
            "92/92 [==============================] - 2s 27ms/step - loss: 0.3742 - accuracy: 0.8823 - val_loss: 0.4362 - val_accuracy: 0.8638\n",
            "Epoch 9/100\n",
            "92/92 [==============================] - 2s 27ms/step - loss: 0.3761 - accuracy: 0.8706 - val_loss: 0.4300 - val_accuracy: 0.8801\n",
            "Epoch 10/100\n",
            "92/92 [==============================] - 3s 28ms/step - loss: 0.3516 - accuracy: 0.8896 - val_loss: 0.4267 - val_accuracy: 0.8883\n",
            "Epoch 11/100\n",
            "92/92 [==============================] - 2s 27ms/step - loss: 0.3376 - accuracy: 0.8974 - val_loss: 0.4363 - val_accuracy: 0.8787\n",
            "Epoch 12/100\n",
            "92/92 [==============================] - 3s 27ms/step - loss: 0.3413 - accuracy: 0.8871 - val_loss: 0.4220 - val_accuracy: 0.8883\n",
            "Epoch 13/100\n",
            "92/92 [==============================] - 3s 27ms/step - loss: 0.3313 - accuracy: 0.8905 - val_loss: 0.4662 - val_accuracy: 0.8733\n",
            "Epoch 14/100\n",
            "92/92 [==============================] - 3s 27ms/step - loss: 0.3291 - accuracy: 0.9027 - val_loss: 0.4704 - val_accuracy: 0.8747\n"
          ],
          "name": "stdout"
        },
        {
          "output_type": "display_data",
          "data": {
            "image/png": "[encoded data removed]",
            "text/plain": [
              "<Figure size 576x576 with 2 Axes>"
            ]
          },
          "metadata": {
            "tags": [],
            "needs_background": "light"
          }
        }
      ]
    },
    {
      "cell_type": "markdown",
      "metadata": {
        "id": "bnXq4PWdhEIE"
      },
      "source": [
        "### Plot Confusion matrix for validation data\n",
        "\n",
        "It gives an visual represention of how good the model is performing"
      ]
    },
    {
      "cell_type": "code",
      "metadata": {
        "id": "bE7KhWyijmkg",
        "colab": {
          "base_uri": "https://localhost:8080/",
          "height": 521
        },
        "outputId": "934fe43c-a6bd-4878-f775-e6114b7818ec"
      },
      "source": [
        "#Defining function for confusion matrix plot - https://analyticsindiamag.com/implementing-efficientnet-a-powerful-convolutional-neural-network/\n",
        "from sklearn.metrics import confusion_matrix\n",
        "from google.colab.patches import cv2_imshow\n",
        "\n",
        "def plot_confusion_matrix(y_true, y_pred, classes,\n",
        "                          normalize=False,\n",
        "                          title=None,\n",
        "                          cmap=plt.cm.Blues):\n",
        "    if not title:\n",
        "        if normalize:\n",
        "            title = 'Normalized confusion matrix'\n",
        "        else:\n",
        "            title = 'Confusion matrix, without normalization'\n",
        "\n",
        "    # Compute confusion matrix\n",
        "    cm = confusion_matrix(y_true, y_pred)\n",
        "    if normalize:\n",
        "        cm = cm.astype('float') / cm.sum(axis=1)[:, np.newaxis]\n",
        "        print(\"Normalized confusion matrix\")\n",
        "    else:\n",
        "        print('Confusion matrix, without normalization')\n",
        "\n",
        "#Print Confusion matrix\n",
        "    fig, ax = plt.subplots(figsize=(7,7))\n",
        "    im = ax.imshow(cm, interpolation='nearest', cmap=cmap)\n",
        "    ax.figure.colorbar(im, ax=ax)\n",
        "    # We want to show all ticks...\n",
        "    ax.set(xticks=np.arange(cm.shape[1]),\n",
        "           yticks=np.arange(cm.shape[0]),\n",
        "        xticklabels=classes, yticklabels=classes,\n",
        "           title=title,\n",
        "           ylabel='True label',\n",
        "           xlabel='Predicted label')\n",
        "\n",
        "   # Rotate the tick labels and set their alignment.\n",
        "    plt.setp(ax.get_xticklabels(), rotation=45, ha=\"right\",\n",
        "             rotation_mode=\"anchor\")\n",
        "    # Loop over data dimensions and create text annotations.\n",
        "    fmt = '.2f' if normalize else 'd'\n",
        "    thresh = cm.max() / 2.\n",
        "    for i in range(cm.shape[0]):\n",
        "        for j in range(cm.shape[1]):\n",
        "            ax.text(j, i, format(cm[i, j], fmt),\n",
        "                    ha=\"center\", va=\"center\",\n",
        "                    color=\"white\" if cm[i, j] > thresh else \"black\")\n",
        "    fig.tight_layout()\n",
        "    return ax\n",
        "\n",
        "np.set_printoptions(precision=2)\n",
        "\n",
        "val_ds_u = val_ds.unbatch()\n",
        "val_ds_u = list(val_ds_u.as_numpy_iterator())\n",
        "img_arr = np.array([image for image, label in val_ds_u])\n",
        "lbl_arr = np.array([label for image, label in val_ds_u])\n",
        "\n",
        "val_p = model.predict(img_arr)\n",
        "\n",
        "\n",
        "val_r = [np.argmax(y) for y in val_p]\n",
        "\n",
        "\n",
        "plot_confusion_matrix(val_r, lbl_arr, class_names)"
      ],
      "execution_count": 37,
      "outputs": [
        {
          "output_type": "stream",
          "text": [
            "Confusion matrix, without normalization\n"
          ],
          "name": "stdout"
        },
        {
          "output_type": "execute_result",
          "data": {
            "text/plain": [
              "<matplotlib.axes._subplots.AxesSubplot at 0x7fbd6ec5fdd0>"
            ]
          },
          "metadata": {
            "tags": []
          },
          "execution_count": 37
        },
        {
          "output_type": "display_data",
          "data": {
            "image/png": "[encoded data removed]",
            "text/plain": [
              "<Figure size 504x504 with 2 Axes>"
            ]
          },
          "metadata": {
            "tags": [],
            "needs_background": "light"
          }
        }
      ]
    },
    {
      "cell_type": "markdown",
      "metadata": {
        "id": "5WNCklHdq1iN"
      },
      "source": [
        "## Step 5: Test the model\n"
      ]
    },
    {
      "cell_type": "code",
      "metadata": {
        "id": "O-Z5PYaZq6rI",
        "colab": {
          "base_uri": "https://localhost:8080/"
        },
        "outputId": "87f0a3f1-431f-4ea6-c063-1cebd8fb400f"
      },
      "source": [
        "# Place an url of any new images and try the results \n",
        "image_url = \"https://upload.wikimedia.org/wikipedia/commons/c/ce/Daisy_G%C3%A4nsebl%C3%BCmchen_Bellis_perennis_01.jpg\"\n",
        "\n",
        "# tf cahces the data to be dowloaded, so just make sure we clean if any previous image was already stored\n",
        "!rm datasets/Image.png\n",
        "\n",
        "# Download the image to local storage\n",
        "image_path = tf.keras.utils.get_file('Image.png', origin=image_url, cache_dir=\"./\")\n",
        "# Load the image from local storage using tensorflow api's \n",
        "img = tf.keras.preprocessing.image.load_img(\n",
        "    image_path, \n",
        "    target_size=(IMG_WIDTH, IMG_HEIGHT)\n",
        "    )\n",
        "img_array = tf.keras.preprocessing.image.img_to_array(img)\n",
        "\n",
        "img_array = tf.expand_dims(img_array, 0)\n",
        "\n",
        "predictions = model.predict(img_array)\n",
        "score = tf.nn.softmax(predictions[0])\n",
        "\n",
        "\n",
        "print(\"This definitely an {} - {}\".format(class_names[np.argmax(score)], round(100 * np.max(score))))"
      ],
      "execution_count": 38,
      "outputs": [
        {
          "output_type": "stream",
          "text": [
            "Downloading data from https://upload.wikimedia.org/wikipedia/commons/c/ce/Daisy_G%C3%A4nsebl%C3%BCmchen_Bellis_perennis_01.jpg\n",
            "1261568/1256730 [==============================] - 0s 0us/step\n",
            "This definitely an daisy - 100\n"
          ],
          "name": "stdout"
        }
      ]
    }
  ]
}