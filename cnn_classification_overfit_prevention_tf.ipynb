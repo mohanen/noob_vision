{
  "nbformat": 4,
  "nbformat_minor": 0,
  "metadata": {
    "colab": {
      "name": "cnn_classification_overfit_prevention_tf.ipynb",
      "provenance": [],
      "collapsed_sections": []
    },
    "kernelspec": {
      "name": "python3",
      "display_name": "Python 3"
    },
    "language_info": {
      "name": "python"
    },
    "accelerator": "GPU"
  },
  "cells": [
    {
      "cell_type": "markdown",
      "metadata": {
        "id": "fMKxA-slER58"
      },
      "source": [
        "# Overfit Prevention in Image Clasification \n",
        "\n",
        "[![Open In Colab](https://colab.research.google.com/assets/colab-badge.svg)](https://colab.research.google.com/github/mohanen/noob_vision/blob/master/cnn_classification_overfit_prevention_tf.ipynb)\n",
        "\n",
        "> we already know how to classify images from [cnn classification](https://colab.research.google.com/github/mohanen/noob_vision/blob/master/cnn_classification_overfit_prevention_tf.ipynb)\n",
        "\n",
        "## Overfitting \n",
        "\n",
        "- Memorizing is not learning, when the trained model only gives good results to training set but fails in validation and/or test then its overfit \n",
        "- occurs when things become complex, Trying to keep things simple is the key to solve.\n",
        "\n",
        "### Most common ways to prevent overfitting in neural networks\n",
        "1. Get more training data \n",
        "  - Its all about data if its possible always get more data\n",
        "  - Its better to have almost equalent amount of cases for all the classes\n",
        "2. data-augmentation \n",
        "  - Create more datasets from existing ones \n",
        "  - Apply random transformations such as rotations, translations, scaling, flip\n",
        "  - Depending upon the use case we can use weather effect, lens distortions to generate even more data \n",
        "3. Reduce the capacity of the network. \n",
        "  - If the network is too complex the model will overfit, if its too simple the model will underfit, so its all about finding the sweet spot for your network\n",
        "  - Always start with simple network with less layers and node and increase the complexity if required\n",
        "4. Add dropout\n",
        "  - Not all nodes treated equally some are weak and some are strong\n",
        "  - The strong nodes always dominates the weak nodes, so turning of the strong nodes will make the network tweak its weights for the weak nodes to improve accuracy with what it have\n",
        "  - drop some percent of previous nodes to give some extra learning time to lazy learner nodes\n",
        "5. batch normalization\n",
        "  - Neuron \"$z = g(weights,x) + bias$\" fed to a activation func $a=f(z)$\n",
        "  - After Batch Normalization $z = g(w,x) \\qquad z^N = \\frac{z-mean_z}{stdev_z} * \\gamma + \\beta \\qquad a = f(z^N)$ \n",
        "  - Working on normalized data also speeds up the process\n",
        "6. Add weight \n",
        "  - put constraints on the complexity of a network by forcing its weights only to take small values, which makes the distribution of weight values more \"regular\".\n",
        "  - L1 regularization - pushes weights towards exactly zero encouraging a sparse model\n",
        "  - L2 regularization - penalize the weights parameters without making them sparse since the penalty goes to zero for small weights\n",
        "\n",
        "> Each of the above 6 steps has its own set of parameters to be configured for optimal results, as there is no one size fits all parameters we have to experiment with the values for our scenarios\n",
        "\n",
        "### Lets use the same steps as [cnn classification](https://colab.research.google.com/github/mohanen/noob_vision/blob/master/cnn_classification_tf.ipynb) with some overfit prevention mechanisms\n",
        "\n",
        "1. Download and arrange dataset in file system\n",
        "2. Load the training and valdiation data \n",
        "3. Create a CNN Model\n",
        "4. Train the model\n",
        "5. Test the model\n"
      ]
    },
    {
      "cell_type": "markdown",
      "metadata": {
        "id": "2O7rEAE8ffc-"
      },
      "source": [
        "## Step 1: Download and arrange dataset in file systems"
      ]
    },
    {
      "cell_type": "code",
      "metadata": {
        "id": "Z-gNjcmLCHWR",
        "colab": {
          "base_uri": "https://localhost:8080/"
        },
        "outputId": "fd7dc2d4-80c0-42e0-b207-759a19877645"
      },
      "source": [
        "import tensorflow as tf\n",
        "import numpy as np\n",
        "import pathlib                  # For folder/file related operations\n",
        "import matplotlib.pyplot as plt # For plotting graphs and showing images\n",
        "\n",
        "# Reduce precission and speed thing up 60% on TPU and 3x on Modern GPU - optional\n",
        "tf.keras.mixed_precision.set_global_policy('mixed_float16')\n",
        "\n",
        "# Download the dataset\n",
        "dataset_url = \"https://storage.googleapis.com/download.tensorflow.org/example_images/flower_photos.tgz\"\n",
        "# You don't need to seperate libraries to download and zip file, tensorflow itself has one built one, lets use that\n",
        "data_dir = tf.keras.utils.get_file(origin=dataset_url, fname=\"the_dataset\", extract=True, cache_dir=\"./\")\n",
        "# Pathlib allows you to do some path handling operations\n",
        "data_dir = pathlib.Path(data_dir)\n",
        "data_dir =  data_dir.parent.joinpath ('flower_photos')\n",
        "\n",
        "# list the contents of data dir\n",
        "# \"!\" indicated shell commands\n",
        "!ls $data_dir"
      ],
      "execution_count": 2,
      "outputs": [
        {
          "output_type": "stream",
          "text": [
            "INFO:tensorflow:Mixed precision compatibility check (mixed_float16): OK\n",
            "Your GPU will likely run quickly with dtype policy mixed_float16 as it has compute capability of at least 7.0. Your GPU: Tesla T4, compute capability 7.5\n",
            "Downloading data from https://storage.googleapis.com/download.tensorflow.org/example_images/flower_photos.tgz\n",
            "228818944/228813984 [==============================] - 1s 0us/step\n",
            "daisy  dandelion  LICENSE.txt  roses  sunflowers  tulips\n"
          ],
          "name": "stdout"
        }
      ]
    },
    {
      "cell_type": "markdown",
      "metadata": {
        "id": "L0TDkP0ofnkA"
      },
      "source": [
        "## Step 2: Load the training and validation data \n"
      ]
    },
    {
      "cell_type": "code",
      "metadata": {
        "id": "cIguXr6ufo3_",
        "colab": {
          "base_uri": "https://localhost:8080/"
        },
        "outputId": "67368130-f443-4e75-b97b-d867d98a9452"
      },
      "source": [
        "BATCH_SIZE = 32 # Instead of running all dataset one session its split into multiple batches for faster training and better convergence\n",
        "IMG_HEIGHT = 128\n",
        "IMG_WIDTH = 128\n",
        "IMG_CHANNELS = 3 # RGB has 3 channels each represensting intensity of Red, Green, Blue \n",
        "\n",
        "# To load the image from directory we can use the tensorflow api itself\n",
        "# training and validation split can also be configured with the same api\n",
        "train_ds = tf.keras.preprocessing.image_dataset_from_directory(\n",
        "    data_dir,               # path to dataset\n",
        "    validation_split=0.2,   # percent of data reserved for validation\n",
        "    subset=\"training\",      # training or validation subset\n",
        "    seed=123,               # seed helps in shuffling images same way for both training and validation \n",
        "    image_size=(IMG_HEIGHT, IMG_WIDTH), \n",
        "    batch_size=BATCH_SIZE   \n",
        "    )\n",
        "\n",
        "val_ds = tf.keras.preprocessing.image_dataset_from_directory(\n",
        "    data_dir, \n",
        "    validation_split=0.2,\n",
        "    subset=\"validation\", \n",
        "    seed=123, \n",
        "    image_size=(IMG_HEIGHT, IMG_WIDTH), \n",
        "    batch_size=BATCH_SIZE)\n",
        "\n",
        "# store the class names\n",
        "class_names = train_ds.class_names\n",
        "\n",
        "# Improves tensorflow performance drastically\n",
        "train_ds = train_ds.cache()\n",
        "train_ds = train_ds.prefetch(tf.data.experimental.AUTOTUNE)\n",
        "val_ds = val_ds.cache()\n",
        "val_ds = val_ds.prefetch(tf.data.experimental.AUTOTUNE)\n",
        "\n",
        "print (class_names)"
      ],
      "execution_count": 6,
      "outputs": [
        {
          "output_type": "stream",
          "text": [
            "Found 3670 files belonging to 5 classes.\n",
            "Using 2936 files for training.\n",
            "Found 3670 files belonging to 5 classes.\n",
            "Using 734 files for validation.\n",
            "['daisy', 'dandelion', 'roses', 'sunflowers', 'tulips']\n"
          ],
          "name": "stdout"
        }
      ]
    },
    {
      "cell_type": "markdown",
      "metadata": {
        "id": "Tiu90x9XkvXJ"
      },
      "source": [
        "## Step 3: Create a CNN Model\n"
      ]
    },
    {
      "cell_type": "code",
      "metadata": {
        "id": "VgSZHtE-wdJX",
        "colab": {
          "base_uri": "https://localhost:8080/"
        },
        "outputId": "e52b8563-45b3-4813-94c0-325b192a811c"
      },
      "source": [
        "from tensorflow.keras import layers, models\n",
        "\n",
        "# Prevents over fittting the model\n",
        "data_augmentation = models.Sequential([\n",
        "                     layers.experimental.preprocessing.RandomFlip(input_shape=(IMG_HEIGHT, IMG_WIDTH, IMG_CHANNELS)),\n",
        "                     layers.experimental.preprocessing.RandomRotation(0.2),\n",
        "                     layers.experimental.preprocessing.RandomZoom(0.2),\n",
        "                     layers.experimental.preprocessing.RandomContrast(0.2),\n",
        "                     layers.experimental.preprocessing.RandomTranslation(height_factor=0.2, width_factor=0.2),\n",
        "                     layers.experimental.preprocessing.Rescaling(1./255),\n",
        "])\n",
        "\n",
        "\n",
        "# The optimal number of layers, filters varies with scenarios, so its best start with simple network and increase the complexity to get good results\n",
        "# complexity brings another problem overfitting - we will be discussing this on a different experiment\n",
        "model = models.Sequential([\n",
        "                           data_augmentation,\n",
        "                           layers.Conv2D(filters=32, kernel_size=(3,3), activation='relu'),\n",
        "                           layers.BatchNormalization(),\n",
        "                           layers.MaxPooling2D(pool_size=(2,2)),\n",
        "                           layers.Conv2D(filters=64, kernel_size=(3,3), activation='relu'),\n",
        "                           layers.BatchNormalization(),\n",
        "                           layers.MaxPooling2D(pool_size=(2,2)),\n",
        "                           layers.Conv2D(filters=128, kernel_size=(3,3), activation='relu'),\n",
        "                           layers.BatchNormalization(),\n",
        "                           layers.MaxPooling2D(pool_size=(2,2)),\n",
        "                           layers.Flatten(),\n",
        "                           layers.Dropout(0.2), # This drops 20% percent of previous nodes to prevent over fitting \n",
        "                           # Adding Weight = L2 regularizers forces the weights to decay towards zero.\n",
        "                           layers.Dense(256, activation='relu', kernel_regularizer=tf.keras.regularizers.l2(0.0001)),\n",
        "                           layers.Dropout(0.2), # This drops 20% percent of previous nodes to prevent over fitting\n",
        "                           layers.Dense(len(class_names), kernel_regularizer=tf.keras.regularizers.l2(0.0001))\n",
        "])\n",
        "\n",
        "\n",
        "model.compile(\n",
        "    optimizer='adam',\n",
        "    loss=tf.losses.SparseCategoricalCrossentropy(from_logits=True),\n",
        "    metrics=['accuracy']\n",
        ")\n",
        "\n",
        "model.summary()"
      ],
      "execution_count": 8,
      "outputs": [
        {
          "output_type": "stream",
          "text": [
            "Model: \"sequential_5\"\n",
            "_________________________________________________________________\n",
            "Layer (type)                 Output Shape              Param #   \n",
            "=================================================================\n",
            "sequential_4 (Sequential)    (None, 128, 128, 3)       0         \n",
            "_________________________________________________________________\n",
            "conv2d_6 (Conv2D)            (None, 126, 126, 32)      896       \n",
            "_________________________________________________________________\n",
            "batch_normalization_6 (Batch (None, 126, 126, 32)      128       \n",
            "_________________________________________________________________\n",
            "max_pooling2d_6 (MaxPooling2 (None, 63, 63, 32)        0         \n",
            "_________________________________________________________________\n",
            "conv2d_7 (Conv2D)            (None, 61, 61, 64)        18496     \n",
            "_________________________________________________________________\n",
            "batch_normalization_7 (Batch (None, 61, 61, 64)        256       \n",
            "_________________________________________________________________\n",
            "max_pooling2d_7 (MaxPooling2 (None, 30, 30, 64)        0         \n",
            "_________________________________________________________________\n",
            "conv2d_8 (Conv2D)            (None, 28, 28, 128)       73856     \n",
            "_________________________________________________________________\n",
            "batch_normalization_8 (Batch (None, 28, 28, 128)       512       \n",
            "_________________________________________________________________\n",
            "max_pooling2d_8 (MaxPooling2 (None, 14, 14, 128)       0         \n",
            "_________________________________________________________________\n",
            "flatten_2 (Flatten)          (None, 25088)             0         \n",
            "_________________________________________________________________\n",
            "dropout_5 (Dropout)          (None, 25088)             0         \n",
            "_________________________________________________________________\n",
            "dense_5 (Dense)              (None, 256)               6422784   \n",
            "_________________________________________________________________\n",
            "dropout_6 (Dropout)          (None, 256)               0         \n",
            "_________________________________________________________________\n",
            "dense_6 (Dense)              (None, 5)                 1285      \n",
            "=================================================================\n",
            "Total params: 6,518,213\n",
            "Trainable params: 6,517,765\n",
            "Non-trainable params: 448\n",
            "_________________________________________________________________\n"
          ],
          "name": "stdout"
        }
      ]
    },
    {
      "cell_type": "markdown",
      "metadata": {
        "id": "W77jN7wgbOAZ"
      },
      "source": [
        "## Step 4: Train the model\n"
      ]
    },
    {
      "cell_type": "code",
      "metadata": {
        "id": "gIH0wFg7bci4",
        "colab": {
          "base_uri": "https://localhost:8080/",
          "height": 1000
        },
        "outputId": "bb2a226d-d879-4619-b6f2-468cf84d0660"
      },
      "source": [
        "# How many epochs should i ran, until you get the desired/optimal accuracy and loss\n",
        "# For simplicity i'm gonna go with 50\n",
        "epochs = 100 \n",
        "\n",
        "# You also specify if there is no improvement in the accuracy/loss you can stop with a callback\n",
        "early_stopping = tf.keras.callbacks.EarlyStopping(patience=10) # patience \n",
        "\n",
        "history = model.fit(train_ds, \n",
        "                    validation_data=val_ds, \n",
        "                    epochs=epochs, \n",
        "                    callbacks=[early_stopping])\n",
        "\n",
        "\n",
        "# Our handy dandy function to plot the accuracy and loss\n",
        "def plot_acc_loss(history, epochs_ran):\n",
        "  # Lets plot the accuracy and loss over epochs\n",
        "  acc = history.history['accuracy']\n",
        "  val_acc = history.history['val_accuracy']\n",
        "\n",
        "  loss = history.history['loss']\n",
        "  val_loss = history.history['val_loss']\n",
        "\n",
        "  epochs_range = range(epochs_ran)\n",
        "\n",
        "  # below is matplotlib api's to plot line graph\n",
        "  plt.figure(figsize=(8, 8))\n",
        "  plt.subplot(1, 2, 1)\n",
        "  plt.plot(epochs_range, acc, label='Training Accuracy')\n",
        "  plt.plot(epochs_range, val_acc, label='Validation Accuracy')\n",
        "  plt.legend(loc='lower right')\n",
        "  plt.title('Training and Validation Accuracy')\n",
        "\n",
        "  plt.subplot(1, 2, 2)\n",
        "  plt.plot(epochs_range, loss, label='Training Loss')\n",
        "  plt.plot(epochs_range, val_loss, label='Validation Loss')\n",
        "  plt.legend(loc='upper right')\n",
        "  plt.title('Training and Validation Loss')\n",
        "  plt.savefig('H.png')\n",
        "\n",
        "# Thats it at this point the model is trained\n",
        "if (early_stopping.stopped_epoch == 0): \n",
        "  epochs_ran = epochs\n",
        "else:\n",
        "  epochs_ran = early_stopping.stopped_epoch+1 \n",
        "\n",
        "plot_acc_loss(history, epochs_ran)"
      ],
      "execution_count": 9,
      "outputs": [
        {
          "output_type": "stream",
          "text": [
            "Epoch 1/100\n",
            "92/92 [==============================] - 12s 97ms/step - loss: 5.5535 - accuracy: 0.3333 - val_loss: 15.2055 - val_accuracy: 0.2398\n",
            "Epoch 2/100\n",
            "92/92 [==============================] - 3s 32ms/step - loss: 1.4844 - accuracy: 0.4599 - val_loss: 6.1894 - val_accuracy: 0.2493\n",
            "Epoch 3/100\n",
            "92/92 [==============================] - 3s 32ms/step - loss: 1.3372 - accuracy: 0.4779 - val_loss: 3.1102 - val_accuracy: 0.3420\n",
            "Epoch 4/100\n",
            "92/92 [==============================] - 3s 32ms/step - loss: 1.3098 - accuracy: 0.5076 - val_loss: 2.1848 - val_accuracy: 0.4128\n",
            "Epoch 5/100\n",
            "92/92 [==============================] - 3s 32ms/step - loss: 1.3212 - accuracy: 0.5331 - val_loss: 1.6169 - val_accuracy: 0.4210\n",
            "Epoch 6/100\n",
            "92/92 [==============================] - 3s 32ms/step - loss: 1.3163 - accuracy: 0.5200 - val_loss: 1.2857 - val_accuracy: 0.5409\n",
            "Epoch 7/100\n",
            "92/92 [==============================] - 3s 32ms/step - loss: 1.2269 - accuracy: 0.5239 - val_loss: 1.2539 - val_accuracy: 0.5422\n",
            "Epoch 8/100\n",
            "92/92 [==============================] - 3s 32ms/step - loss: 1.1787 - accuracy: 0.5755 - val_loss: 1.1757 - val_accuracy: 0.5654\n",
            "Epoch 9/100\n",
            "92/92 [==============================] - 3s 32ms/step - loss: 1.2007 - accuracy: 0.5653 - val_loss: 1.6116 - val_accuracy: 0.4918\n",
            "Epoch 10/100\n",
            "92/92 [==============================] - 3s 32ms/step - loss: 1.1686 - accuracy: 0.5728 - val_loss: 1.2102 - val_accuracy: 0.5354\n",
            "Epoch 11/100\n",
            "92/92 [==============================] - 3s 32ms/step - loss: 1.1185 - accuracy: 0.5877 - val_loss: 1.0810 - val_accuracy: 0.6076\n",
            "Epoch 12/100\n",
            "92/92 [==============================] - 3s 32ms/step - loss: 1.1244 - accuracy: 0.5828 - val_loss: 1.1409 - val_accuracy: 0.5926\n",
            "Epoch 13/100\n",
            "92/92 [==============================] - 3s 32ms/step - loss: 1.1088 - accuracy: 0.5873 - val_loss: 1.5699 - val_accuracy: 0.4469\n",
            "Epoch 14/100\n",
            "92/92 [==============================] - 3s 32ms/step - loss: 1.1321 - accuracy: 0.5790 - val_loss: 1.0436 - val_accuracy: 0.6485\n",
            "Epoch 15/100\n",
            "92/92 [==============================] - 3s 32ms/step - loss: 1.0810 - accuracy: 0.6206 - val_loss: 1.1595 - val_accuracy: 0.5899\n",
            "Epoch 16/100\n",
            "92/92 [==============================] - 3s 32ms/step - loss: 1.0826 - accuracy: 0.6274 - val_loss: 0.9870 - val_accuracy: 0.6580\n",
            "Epoch 17/100\n",
            "92/92 [==============================] - 3s 32ms/step - loss: 1.0709 - accuracy: 0.6259 - val_loss: 1.0750 - val_accuracy: 0.6308\n",
            "Epoch 18/100\n",
            "92/92 [==============================] - 3s 32ms/step - loss: 1.0652 - accuracy: 0.6382 - val_loss: 1.2502 - val_accuracy: 0.5218\n",
            "Epoch 19/100\n",
            "92/92 [==============================] - 3s 32ms/step - loss: 1.0570 - accuracy: 0.6411 - val_loss: 0.9524 - val_accuracy: 0.6703\n",
            "Epoch 20/100\n",
            "92/92 [==============================] - 3s 32ms/step - loss: 1.0291 - accuracy: 0.6345 - val_loss: 1.0789 - val_accuracy: 0.6267\n",
            "Epoch 21/100\n",
            "92/92 [==============================] - 3s 32ms/step - loss: 1.0533 - accuracy: 0.6460 - val_loss: 1.1840 - val_accuracy: 0.6008\n",
            "Epoch 22/100\n",
            "92/92 [==============================] - 3s 32ms/step - loss: 1.0104 - accuracy: 0.6638 - val_loss: 1.0336 - val_accuracy: 0.6608\n",
            "Epoch 23/100\n",
            "92/92 [==============================] - 3s 32ms/step - loss: 0.9751 - accuracy: 0.6617 - val_loss: 1.2619 - val_accuracy: 0.5422\n",
            "Epoch 24/100\n",
            "92/92 [==============================] - 3s 31ms/step - loss: 1.0011 - accuracy: 0.6562 - val_loss: 0.9795 - val_accuracy: 0.6880\n",
            "Epoch 25/100\n",
            "92/92 [==============================] - 3s 31ms/step - loss: 0.9458 - accuracy: 0.6747 - val_loss: 1.0922 - val_accuracy: 0.6008\n",
            "Epoch 26/100\n",
            "92/92 [==============================] - 3s 31ms/step - loss: 0.9547 - accuracy: 0.6861 - val_loss: 0.9539 - val_accuracy: 0.6907\n",
            "Epoch 27/100\n",
            "92/92 [==============================] - 3s 32ms/step - loss: 0.9803 - accuracy: 0.6742 - val_loss: 1.0021 - val_accuracy: 0.6703\n",
            "Epoch 28/100\n",
            "92/92 [==============================] - 3s 32ms/step - loss: 0.9253 - accuracy: 0.6799 - val_loss: 1.0084 - val_accuracy: 0.6621\n",
            "Epoch 29/100\n",
            "92/92 [==============================] - 3s 32ms/step - loss: 0.9299 - accuracy: 0.6951 - val_loss: 1.1164 - val_accuracy: 0.6689\n"
          ],
          "name": "stdout"
        },
        {
          "output_type": "display_data",
          "data": {
            "image/png": "[encoded data removed]",
            "text/plain": [
              "<Figure size 576x576 with 2 Axes>"
            ]
          },
          "metadata": {
            "tags": [],
            "needs_background": "light"
          }
        }
      ]
    },
    {
      "cell_type": "markdown",
      "metadata": {
        "id": "9xD6dcm7hBn2"
      },
      "source": [
        "### Plot Confusion matrix for validation data\n",
        "\n",
        "It gives an visual represention of how good the model is performing"
      ]
    },
    {
      "cell_type": "code",
      "metadata": {
        "colab": {
          "base_uri": "https://localhost:8080/",
          "height": 521
        },
        "id": "YF6oPXt8ma78",
        "outputId": "77a93bb8-4ec3-4eb7-a7d1-3a8b48e01106"
      },
      "source": [
        "#Defining function for confusion matrix plot - https://analyticsindiamag.com/implementing-efficientnet-a-powerful-convolutional-neural-network/\n",
        "from sklearn.metrics import confusion_matrix\n",
        "from google.colab.patches import cv2_imshow\n",
        "\n",
        "def plot_confusion_matrix(y_true, y_pred, classes,\n",
        "                          normalize=False,\n",
        "                          title=None,\n",
        "                          cmap=plt.cm.Blues):\n",
        "    if not title:\n",
        "        if normalize:\n",
        "            title = 'Normalized confusion matrix'\n",
        "        else:\n",
        "            title = 'Confusion matrix, without normalization'\n",
        "\n",
        "    # Compute confusion matrix\n",
        "    cm = confusion_matrix(y_true, y_pred)\n",
        "    if normalize:\n",
        "        cm = cm.astype('float') / cm.sum(axis=1)[:, np.newaxis]\n",
        "        print(\"Normalized confusion matrix\")\n",
        "    else:\n",
        "        print('Confusion matrix, without normalization')\n",
        "\n",
        "#Print Confusion matrix\n",
        "    fig, ax = plt.subplots(figsize=(7,7))\n",
        "    im = ax.imshow(cm, interpolation='nearest', cmap=cmap)\n",
        "    ax.figure.colorbar(im, ax=ax)\n",
        "    # We want to show all ticks...\n",
        "    ax.set(xticks=np.arange(cm.shape[1]),\n",
        "           yticks=np.arange(cm.shape[0]),\n",
        "        xticklabels=classes, yticklabels=classes,\n",
        "           title=title,\n",
        "           ylabel='True label',\n",
        "           xlabel='Predicted label')\n",
        "\n",
        "   # Rotate the tick labels and set their alignment.\n",
        "    plt.setp(ax.get_xticklabels(), rotation=45, ha=\"right\",\n",
        "             rotation_mode=\"anchor\")\n",
        "    # Loop over data dimensions and create text annotations.\n",
        "    fmt = '.2f' if normalize else 'd'\n",
        "    thresh = cm.max() / 2.\n",
        "    for i in range(cm.shape[0]):\n",
        "        for j in range(cm.shape[1]):\n",
        "            ax.text(j, i, format(cm[i, j], fmt),\n",
        "                    ha=\"center\", va=\"center\",\n",
        "                    color=\"white\" if cm[i, j] > thresh else \"black\")\n",
        "    fig.tight_layout()\n",
        "    return ax\n",
        "\n",
        "np.set_printoptions(precision=2)\n",
        "\n",
        "val_ds_u = val_ds.unbatch()\n",
        "val_ds_u = list(val_ds_u.as_numpy_iterator())\n",
        "img_arr = np.array([image for image, label in val_ds_u])\n",
        "lbl_arr = np.array([label for image, label in val_ds_u])\n",
        "\n",
        "val_p = model.predict(img_arr)\n",
        "\n",
        "\n",
        "val_r = [np.argmax(y) for y in val_p]\n",
        "\n",
        "plot_confusion_matrix(val_r, lbl_arr, class_names)"
      ],
      "execution_count": 12,
      "outputs": [
        {
          "output_type": "stream",
          "text": [
            "Confusion matrix, without normalization\n"
          ],
          "name": "stdout"
        },
        {
          "output_type": "execute_result",
          "data": {
            "text/plain": [
              "<matplotlib.axes._subplots.AxesSubplot at 0x7fb2842939d0>"
            ]
          },
          "metadata": {
            "tags": []
          },
          "execution_count": 12
        },
        {
          "output_type": "display_data",
          "data": {
            "image/png": "[encoded data removed]",
            "text/plain": [
              "<Figure size 504x504 with 2 Axes>"
            ]
          },
          "metadata": {
            "tags": [],
            "needs_background": "light"
          }
        }
      ]
    },
    {
      "cell_type": "markdown",
      "metadata": {
        "id": "5WNCklHdq1iN"
      },
      "source": [
        "## Step 5: Test the model\n"
      ]
    },
    {
      "cell_type": "code",
      "metadata": {
        "id": "O-Z5PYaZq6rI",
        "colab": {
          "base_uri": "https://localhost:8080/"
        },
        "outputId": "e852a663-575b-4074-ac54-223d845a68eb"
      },
      "source": [
        "# Place an url of any new images and try the results \n",
        "image_url = \"https://upload.wikimedia.org/wikipedia/commons/c/ce/Daisy_G%C3%A4nsebl%C3%BCmchen_Bellis_perennis_01.jpg\"\n",
        "\n",
        "# tf cahces the data to be dowloaded, so just make sure we clean if any previous image was already stored\n",
        "!rm datasets/Image.png\n",
        "\n",
        "# Download the image to local storage\n",
        "image_path = tf.keras.utils.get_file('Image.png', origin=image_url, cache_dir=\"./\")\n",
        "# Load the image from local storage using tensorflow api's \n",
        "img = tf.keras.preprocessing.image.load_img(\n",
        "    image_path, \n",
        "    target_size=(IMG_WIDTH, IMG_HEIGHT)\n",
        "    )\n",
        "img_array = tf.keras.preprocessing.image.img_to_array(img)\n",
        "\n",
        "img_array = tf.expand_dims(img_array, 0)\n",
        "\n",
        "predictions = model.predict(img_array)\n",
        "score = tf.nn.softmax(predictions[0])\n",
        "\n",
        "\n",
        "print(\"This definitely an {} - {}\".format(class_names[np.argmax(score)], round(100 * np.max(score))))"
      ],
      "execution_count": 13,
      "outputs": [
        {
          "output_type": "stream",
          "text": [
            "rm: cannot remove 'datasets/Image.png': No such file or directory\n",
            "Downloading data from https://upload.wikimedia.org/wikipedia/commons/c/ce/Daisy_G%C3%A4nsebl%C3%BCmchen_Bellis_perennis_01.jpg\n",
            "1261568/1256730 [==============================] - 0s 0us/step\n",
            "This definitely an daisy - 99\n"
          ],
          "name": "stdout"
        }
      ]
    }
  ]
}